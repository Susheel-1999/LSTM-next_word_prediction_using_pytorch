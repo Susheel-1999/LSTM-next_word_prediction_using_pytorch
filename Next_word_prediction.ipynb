{
  "nbformat": 4,
  "nbformat_minor": 0,
  "metadata": {
    "colab": {
      "name": "Next_word_prediction.ipynb",
      "provenance": [],
      "collapsed_sections": []
    },
    "kernelspec": {
      "name": "python3",
      "display_name": "Python 3"
    }
  },
  "cells": [
    {
      "cell_type": "markdown",
      "metadata": {
        "id": "l6BCxpxVYGKH"
      },
      "source": [
        "**Corpus to train**"
      ]
    },
    {
      "cell_type": "code",
      "metadata": {
        "id": "MsYcPKpx4aPI"
      },
      "source": [
        "#read the corpus(this is a sample file, upload task specific corpus in corpus text file and proceed)\r\n",
        "corpus=open(\"corpus.txt\").read()"
      ],
      "execution_count": null,
      "outputs": []
    },
    {
      "cell_type": "code",
      "metadata": {
        "colab": {
          "base_uri": "https://localhost:8080/",
          "height": 69
        },
        "id": "JE4Gl95pWgo3",
        "outputId": "1b1ce3ae-f408-4772-8797-2bdba79ebe37"
      },
      "source": [
        "corpus"
      ],
      "execution_count": null,
      "outputs": [
        {
          "output_type": "execute_result",
          "data": {
            "application/vnd.google.colaboratory.intrinsic+json": {
              "type": "string"
            },
            "text/plain": [
              "'Next Word Prediction is also called Language Modeling. It is the task of predicting what word comes next. It is one of the fundamental tasks of NLP and has many applications. You might be using it daily when you write texts or emails without realizing it.'"
            ]
          },
          "metadata": {
            "tags": []
          },
          "execution_count": 60
        }
      ]
    },
    {
      "cell_type": "code",
      "metadata": {
        "id": "n3aWyWru49B1"
      },
      "source": [
        "#preprocess the corpus\r\n",
        "import re\r\n",
        "corpus=corpus.lower()\r\n",
        "clean_corpus=re.sub('[^a-z0-9]+',' ', corpus)"
      ],
      "execution_count": null,
      "outputs": []
    },
    {
      "cell_type": "code",
      "metadata": {
        "colab": {
          "base_uri": "https://localhost:8080/",
          "height": 69
        },
        "id": "hwPTQ7ZG4_pD",
        "outputId": "e3a15452-4815-4f4a-e154-241597de6176"
      },
      "source": [
        "clean_corpus"
      ],
      "execution_count": null,
      "outputs": [
        {
          "output_type": "execute_result",
          "data": {
            "application/vnd.google.colaboratory.intrinsic+json": {
              "type": "string"
            },
            "text/plain": [
              "'next word prediction is also called language modeling it is the task of predicting what word comes next it is one of the fundamental tasks of nlp and has many applications you might be using it daily when you write texts or emails without realizing it '"
            ]
          },
          "metadata": {
            "tags": []
          },
          "execution_count": 62
        }
      ]
    },
    {
      "cell_type": "markdown",
      "metadata": {
        "id": "-DYulqAzYxz1"
      },
      "source": [
        " **Data Preparation**"
      ]
    },
    {
      "cell_type": "code",
      "metadata": {
        "colab": {
          "base_uri": "https://localhost:8080/"
        },
        "id": "zywUUPh75Aee",
        "outputId": "98adaf3e-af07-4242-d317-17af6f4c59e9"
      },
      "source": [
        "#required libraries\r\n",
        "import nltk\r\n",
        "nltk.download('punkt')\r\n",
        "from nltk.tokenize import word_tokenize\r\n",
        "from keras.preprocessing.text import Tokenizer\r\n",
        "from keras.utils import to_categorical\r\n",
        "import numpy as np"
      ],
      "execution_count": null,
      "outputs": [
        {
          "output_type": "stream",
          "text": [
            "[nltk_data] Downloading package punkt to /root/nltk_data...\n",
            "[nltk_data]   Package punkt is already up-to-date!\n"
          ],
          "name": "stdout"
        }
      ]
    },
    {
      "cell_type": "code",
      "metadata": {
        "colab": {
          "base_uri": "https://localhost:8080/"
        },
        "id": "4P1LDILB5f20",
        "outputId": "e7ec9261-f829-4e8a-ddbd-05d4c63f8c73"
      },
      "source": [
        "#tokenizing the text into words\r\n",
        "tokens = word_tokenize(clean_corpus)\r\n",
        "tokens\r\n"
      ],
      "execution_count": null,
      "outputs": [
        {
          "output_type": "execute_result",
          "data": {
            "text/plain": [
              "['next',\n",
              " 'word',\n",
              " 'prediction',\n",
              " 'is',\n",
              " 'also',\n",
              " 'called',\n",
              " 'language',\n",
              " 'modeling',\n",
              " 'it',\n",
              " 'is',\n",
              " 'the',\n",
              " 'task',\n",
              " 'of',\n",
              " 'predicting',\n",
              " 'what',\n",
              " 'word',\n",
              " 'comes',\n",
              " 'next',\n",
              " 'it',\n",
              " 'is',\n",
              " 'one',\n",
              " 'of',\n",
              " 'the',\n",
              " 'fundamental',\n",
              " 'tasks',\n",
              " 'of',\n",
              " 'nlp',\n",
              " 'and',\n",
              " 'has',\n",
              " 'many',\n",
              " 'applications',\n",
              " 'you',\n",
              " 'might',\n",
              " 'be',\n",
              " 'using',\n",
              " 'it',\n",
              " 'daily',\n",
              " 'when',\n",
              " 'you',\n",
              " 'write',\n",
              " 'texts',\n",
              " 'or',\n",
              " 'emails',\n",
              " 'without',\n",
              " 'realizing',\n",
              " 'it']"
            ]
          },
          "metadata": {
            "tags": []
          },
          "execution_count": 7
        }
      ]
    },
    {
      "cell_type": "code",
      "metadata": {
        "id": "kvDBhC5c5j5u"
      },
      "source": [
        "#length of the sequence to train\r\n",
        "train_len = 3"
      ],
      "execution_count": null,
      "outputs": []
    },
    {
      "cell_type": "code",
      "metadata": {
        "id": "Cpj6xg2T5rRq"
      },
      "source": [
        "#converting the data into required sequence\r\n",
        "text_sequences = []\r\n",
        "for i in range(train_len,len(tokens)+1):\r\n",
        "  seq = tokens[i-train_len:i]\r\n",
        "  text_sequences.append(seq)"
      ],
      "execution_count": null,
      "outputs": []
    },
    {
      "cell_type": "code",
      "metadata": {
        "colab": {
          "base_uri": "https://localhost:8080/"
        },
        "id": "5h8SCeRS5vwy",
        "outputId": "3ca43022-6a4a-48c1-f5c9-1c43434789b9"
      },
      "source": [
        "text_sequences"
      ],
      "execution_count": null,
      "outputs": [
        {
          "output_type": "execute_result",
          "data": {
            "text/plain": [
              "[['next', 'word', 'prediction'],\n",
              " ['word', 'prediction', 'is'],\n",
              " ['prediction', 'is', 'also'],\n",
              " ['is', 'also', 'called'],\n",
              " ['also', 'called', 'language'],\n",
              " ['called', 'language', 'modeling'],\n",
              " ['language', 'modeling', 'it'],\n",
              " ['modeling', 'it', 'is'],\n",
              " ['it', 'is', 'the'],\n",
              " ['is', 'the', 'task'],\n",
              " ['the', 'task', 'of'],\n",
              " ['task', 'of', 'predicting'],\n",
              " ['of', 'predicting', 'what'],\n",
              " ['predicting', 'what', 'word'],\n",
              " ['what', 'word', 'comes'],\n",
              " ['word', 'comes', 'next'],\n",
              " ['comes', 'next', 'it'],\n",
              " ['next', 'it', 'is'],\n",
              " ['it', 'is', 'one'],\n",
              " ['is', 'one', 'of'],\n",
              " ['one', 'of', 'the'],\n",
              " ['of', 'the', 'fundamental'],\n",
              " ['the', 'fundamental', 'tasks'],\n",
              " ['fundamental', 'tasks', 'of'],\n",
              " ['tasks', 'of', 'nlp'],\n",
              " ['of', 'nlp', 'and'],\n",
              " ['nlp', 'and', 'has'],\n",
              " ['and', 'has', 'many'],\n",
              " ['has', 'many', 'applications'],\n",
              " ['many', 'applications', 'you'],\n",
              " ['applications', 'you', 'might'],\n",
              " ['you', 'might', 'be'],\n",
              " ['might', 'be', 'using'],\n",
              " ['be', 'using', 'it'],\n",
              " ['using', 'it', 'daily'],\n",
              " ['it', 'daily', 'when'],\n",
              " ['daily', 'when', 'you'],\n",
              " ['when', 'you', 'write'],\n",
              " ['you', 'write', 'texts'],\n",
              " ['write', 'texts', 'or'],\n",
              " ['texts', 'or', 'emails'],\n",
              " ['or', 'emails', 'without'],\n",
              " ['emails', 'without', 'realizing'],\n",
              " ['without', 'realizing', 'it']]"
            ]
          },
          "metadata": {
            "tags": []
          },
          "execution_count": 10
        }
      ]
    },
    {
      "cell_type": "code",
      "metadata": {
        "colab": {
          "base_uri": "https://localhost:8080/"
        },
        "id": "sjCiH4Ss5-n5",
        "outputId": "7dd4385f-4ceb-413d-9728-a67584b27e9f"
      },
      "source": [
        "#converting the texts into integer sequence\r\n",
        "tokenizer = Tokenizer()\r\n",
        "tokenizer.fit_on_texts(text_sequences)\r\n",
        "sequences = tokenizer.texts_to_sequences(text_sequences)\r\n",
        "sequences"
      ],
      "execution_count": null,
      "outputs": [
        {
          "output_type": "execute_result",
          "data": {
            "text/plain": [
              "[[7, 6, 8],\n",
              " [6, 8, 2],\n",
              " [8, 2, 9],\n",
              " [2, 9, 10],\n",
              " [9, 10, 11],\n",
              " [10, 11, 12],\n",
              " [11, 12, 1],\n",
              " [12, 1, 2],\n",
              " [1, 2, 4],\n",
              " [2, 4, 13],\n",
              " [4, 13, 3],\n",
              " [13, 3, 14],\n",
              " [3, 14, 15],\n",
              " [14, 15, 6],\n",
              " [15, 6, 16],\n",
              " [6, 16, 7],\n",
              " [16, 7, 1],\n",
              " [7, 1, 2],\n",
              " [1, 2, 17],\n",
              " [2, 17, 3],\n",
              " [17, 3, 4],\n",
              " [3, 4, 18],\n",
              " [4, 18, 19],\n",
              " [18, 19, 3],\n",
              " [19, 3, 20],\n",
              " [3, 20, 21],\n",
              " [20, 21, 22],\n",
              " [21, 22, 23],\n",
              " [22, 23, 24],\n",
              " [23, 24, 5],\n",
              " [24, 5, 25],\n",
              " [5, 25, 26],\n",
              " [25, 26, 27],\n",
              " [26, 27, 1],\n",
              " [27, 1, 28],\n",
              " [1, 28, 29],\n",
              " [28, 29, 5],\n",
              " [29, 5, 30],\n",
              " [5, 30, 31],\n",
              " [30, 31, 32],\n",
              " [31, 32, 33],\n",
              " [32, 33, 34],\n",
              " [33, 34, 35],\n",
              " [34, 35, 1]]"
            ]
          },
          "metadata": {
            "tags": []
          },
          "execution_count": 11
        }
      ]
    },
    {
      "cell_type": "code",
      "metadata": {
        "id": "n6nq0UxoHCb5"
      },
      "source": [
        "sequences=np.asarray(sequences)"
      ],
      "execution_count": null,
      "outputs": []
    },
    {
      "cell_type": "code",
      "metadata": {
        "colab": {
          "base_uri": "https://localhost:8080/"
        },
        "id": "kr8-K-iPIkEC",
        "outputId": "39a655e9-dd85-4ed1-d40f-112905fb715b"
      },
      "source": [
        "#vocabulary size\r\n",
        "vocabulary_size = len(tokenizer.word_counts)+1\r\n",
        "vocabulary_size"
      ],
      "execution_count": null,
      "outputs": [
        {
          "output_type": "execute_result",
          "data": {
            "text/plain": [
              "36"
            ]
          },
          "metadata": {
            "tags": []
          },
          "execution_count": 17
        }
      ]
    },
    {
      "cell_type": "code",
      "metadata": {
        "id": "DfNmEO-_IEHh"
      },
      "source": [
        "#trainX\r\n",
        "train_inputs=sequences[:,:-1]"
      ],
      "execution_count": null,
      "outputs": []
    },
    {
      "cell_type": "code",
      "metadata": {
        "colab": {
          "base_uri": "https://localhost:8080/"
        },
        "id": "SXDhSpKUILHG",
        "outputId": "dddbfc69-b938-40a7-a9f5-93170ade0408"
      },
      "source": [
        "train_inputs"
      ],
      "execution_count": null,
      "outputs": [
        {
          "output_type": "execute_result",
          "data": {
            "text/plain": [
              "array([[ 7,  6],\n",
              "       [ 6,  8],\n",
              "       [ 8,  2],\n",
              "       [ 2,  9],\n",
              "       [ 9, 10],\n",
              "       [10, 11],\n",
              "       [11, 12],\n",
              "       [12,  1],\n",
              "       [ 1,  2],\n",
              "       [ 2,  4],\n",
              "       [ 4, 13],\n",
              "       [13,  3],\n",
              "       [ 3, 14],\n",
              "       [14, 15],\n",
              "       [15,  6],\n",
              "       [ 6, 16],\n",
              "       [16,  7],\n",
              "       [ 7,  1],\n",
              "       [ 1,  2],\n",
              "       [ 2, 17],\n",
              "       [17,  3],\n",
              "       [ 3,  4],\n",
              "       [ 4, 18],\n",
              "       [18, 19],\n",
              "       [19,  3],\n",
              "       [ 3, 20],\n",
              "       [20, 21],\n",
              "       [21, 22],\n",
              "       [22, 23],\n",
              "       [23, 24],\n",
              "       [24,  5],\n",
              "       [ 5, 25],\n",
              "       [25, 26],\n",
              "       [26, 27],\n",
              "       [27,  1],\n",
              "       [ 1, 28],\n",
              "       [28, 29],\n",
              "       [29,  5],\n",
              "       [ 5, 30],\n",
              "       [30, 31],\n",
              "       [31, 32],\n",
              "       [32, 33],\n",
              "       [33, 34],\n",
              "       [34, 35]])"
            ]
          },
          "metadata": {
            "tags": []
          },
          "execution_count": 14
        }
      ]
    },
    {
      "cell_type": "code",
      "metadata": {
        "id": "ARHKHlWtIm5h",
        "colab": {
          "base_uri": "https://localhost:8080/"
        },
        "outputId": "3cf9dc37-cfdb-472b-89bb-8fdb0c961ff5"
      },
      "source": [
        "#input sequence length \r\n",
        "seq_length=train_inputs.shape[1]\r\n",
        "seq_length"
      ],
      "execution_count": null,
      "outputs": [
        {
          "output_type": "execute_result",
          "data": {
            "text/plain": [
              "2"
            ]
          },
          "metadata": {
            "tags": []
          },
          "execution_count": 45
        }
      ]
    },
    {
      "cell_type": "code",
      "metadata": {
        "id": "O--gWQUxINzs"
      },
      "source": [
        "#trainY\r\n",
        "train_targets=sequences[:,-1]"
      ],
      "execution_count": null,
      "outputs": []
    },
    {
      "cell_type": "code",
      "metadata": {
        "colab": {
          "base_uri": "https://localhost:8080/"
        },
        "id": "IN5KSn9RIRKL",
        "outputId": "a78158fd-47ba-49f1-e7c9-a17a189fa4af"
      },
      "source": [
        "train_targets"
      ],
      "execution_count": null,
      "outputs": [
        {
          "output_type": "execute_result",
          "data": {
            "text/plain": [
              "array([ 8,  2,  9, 10, 11, 12,  1,  2,  4, 13,  3, 14, 15,  6, 16,  7,  1,\n",
              "        2, 17,  3,  4, 18, 19,  3, 20, 21, 22, 23, 24,  5, 25, 26, 27,  1,\n",
              "       28, 29,  5, 30, 31, 32, 33, 34, 35,  1])"
            ]
          },
          "metadata": {
            "tags": []
          },
          "execution_count": 16
        }
      ]
    },
    {
      "cell_type": "code",
      "metadata": {
        "id": "tu-jsQuIIV38"
      },
      "source": [
        "#one hot encoding\r\n",
        "train_targets = to_categorical(train_targets, num_classes=vocabulary_size)"
      ],
      "execution_count": null,
      "outputs": []
    },
    {
      "cell_type": "code",
      "metadata": {
        "id": "F8_Eq-F5Iaeq",
        "colab": {
          "base_uri": "https://localhost:8080/"
        },
        "outputId": "d18a0221-5fe5-476b-c46a-dd2924bef2e7"
      },
      "source": [
        "train_targets"
      ],
      "execution_count": null,
      "outputs": [
        {
          "output_type": "execute_result",
          "data": {
            "text/plain": [
              "array([[0., 0., 0., ..., 0., 0., 0.],\n",
              "       [0., 0., 1., ..., 0., 0., 0.],\n",
              "       [0., 0., 0., ..., 0., 0., 0.],\n",
              "       ...,\n",
              "       [0., 0., 0., ..., 0., 1., 0.],\n",
              "       [0., 0., 0., ..., 0., 0., 1.],\n",
              "       [0., 1., 0., ..., 0., 0., 0.]], dtype=float32)"
            ]
          },
          "metadata": {
            "tags": []
          },
          "execution_count": 19
        }
      ]
    },
    {
      "cell_type": "markdown",
      "metadata": {
        "id": "arECrPWAbbCl"
      },
      "source": [
        "**Let's build the model!**"
      ]
    },
    {
      "cell_type": "code",
      "metadata": {
        "id": "PAOhMFUdIzRV"
      },
      "source": [
        "#required libraries\r\n",
        "import torch\r\n",
        "from torch.optim import Adam\r\n",
        "import torch.nn as nn"
      ],
      "execution_count": null,
      "outputs": []
    },
    {
      "cell_type": "code",
      "metadata": {
        "id": "cixhhmGXIzX-"
      },
      "source": [
        "#lstm model\r\n",
        "class lstm(nn.Module):\r\n",
        "    def __init__(self, vocab_size, embed_size, hidden_size):\r\n",
        "        super().__init__()\r\n",
        "        #simple lookup table that stores embeddings of a fixed dictionary and size.\r\n",
        "        self.embed = nn.Embedding(vocab_size, embed_size)\r\n",
        "        \r\n",
        "        #lstm \r\n",
        "        self.lstm = nn.LSTM(embed_size, hidden_size, num_layers=2, bidirectional=False)\r\n",
        "        \r\n",
        "        #fully connected layer\r\n",
        "        self.linear = nn.Linear(hidden_size*seq_length,vocab_size)\r\n",
        "    \r\n",
        "    def forward(self, input_word):\r\n",
        "        #input sequence to embeddings\r\n",
        "        embedded = self.embed(input_word)\r\n",
        "        \r\n",
        "        #passing the embedding to lstm model\r\n",
        "        output, hidden = self.lstm(embedded)\r\n",
        "        \r\n",
        "        #reshaping\r\n",
        "        output=output.view(output.size(0), -1)\r\n",
        "        \r\n",
        "        #fully connected layer\r\n",
        "        output = self.linear(output)\r\n",
        "        return output,hidden\r\n",
        "\r\n"
      ],
      "execution_count": null,
      "outputs": []
    },
    {
      "cell_type": "code",
      "metadata": {
        "id": "wIrit6u4Izbc"
      },
      "source": [
        "model=lstm(vocab_size=vocabulary_size,embed_size=128, hidden_size=256)"
      ],
      "execution_count": null,
      "outputs": []
    },
    {
      "cell_type": "code",
      "metadata": {
        "colab": {
          "base_uri": "https://localhost:8080/"
        },
        "id": "lsk3-AHhJDUr",
        "outputId": "5f3af3a2-4da9-4188-de19-3a6b35f0efd1"
      },
      "source": [
        "model"
      ],
      "execution_count": null,
      "outputs": [
        {
          "output_type": "execute_result",
          "data": {
            "text/plain": [
              "lstm(\n",
              "  (embed): Embedding(36, 128)\n",
              "  (lstm): LSTM(128, 256, num_layers=2)\n",
              "  (linear): Linear(in_features=512, out_features=36, bias=True)\n",
              ")"
            ]
          },
          "metadata": {
            "tags": []
          },
          "execution_count": 67
        }
      ]
    },
    {
      "cell_type": "code",
      "metadata": {
        "id": "5hRysclwJEhK"
      },
      "source": [
        "#Adam optimizer\r\n",
        "optimizer= Adam(model.parameters(), lr=0.07)\r\n",
        "\r\n",
        "#loss\r\n",
        "criterion = nn.BCEWithLogitsLoss()"
      ],
      "execution_count": null,
      "outputs": []
    },
    {
      "cell_type": "code",
      "metadata": {
        "id": "6kg9Xel5JGRJ"
      },
      "source": [
        "#training the model\r\n",
        "def train(epoch):\r\n",
        "    #set the model to train\r\n",
        "    model.train()\r\n",
        "    tr_loss=0    \r\n",
        "    \r\n",
        "    #clearing the Gradients \r\n",
        "    optimizer.zero_grad()\r\n",
        "    \r\n",
        "    #predict the output\r\n",
        "    y_pred, (state_h, state_c) = model(torch.from_numpy(train_inputs))\r\n",
        "    \r\n",
        "    #compute the loss\r\n",
        "    loss=criterion(y_pred,torch.from_numpy(train_targets))\r\n",
        "    losses.append(loss)\r\n",
        "    \r\n",
        "    #backpropagate\r\n",
        "    loss.backward()\r\n",
        "\r\n",
        "    #update the parameters\r\n",
        "    optimizer.step()\r\n",
        "    tr_loss = loss.item()\r\n",
        "\r\n",
        "    print(\"Epoch : \",epoch,\"loss : \",loss)"
      ],
      "execution_count": null,
      "outputs": []
    },
    {
      "cell_type": "code",
      "metadata": {
        "colab": {
          "base_uri": "https://localhost:8080/"
        },
        "id": "-Ozm9y0uJbVN",
        "outputId": "ef6aab79-52fa-4a21-c209-8bf01767e3f9"
      },
      "source": [
        "#number of epoch\r\n",
        "no_epoch=50\r\n",
        "losses=[]\r\n",
        "for epoch in range(1,no_epoch+1):\r\n",
        "    train(epoch)"
      ],
      "execution_count": null,
      "outputs": [
        {
          "output_type": "stream",
          "text": [
            "Epoch :  1 loss :  tensor(0.6966, grad_fn=<BinaryCrossEntropyWithLogitsBackward>)\n",
            "Epoch :  2 loss :  tensor(0.4375, grad_fn=<BinaryCrossEntropyWithLogitsBackward>)\n",
            "Epoch :  3 loss :  tensor(2.0284, grad_fn=<BinaryCrossEntropyWithLogitsBackward>)\n",
            "Epoch :  4 loss :  tensor(1.4217, grad_fn=<BinaryCrossEntropyWithLogitsBackward>)\n",
            "Epoch :  5 loss :  tensor(0.6946, grad_fn=<BinaryCrossEntropyWithLogitsBackward>)\n",
            "Epoch :  6 loss :  tensor(0.1620, grad_fn=<BinaryCrossEntropyWithLogitsBackward>)\n",
            "Epoch :  7 loss :  tensor(0.1574, grad_fn=<BinaryCrossEntropyWithLogitsBackward>)\n",
            "Epoch :  8 loss :  tensor(0.1704, grad_fn=<BinaryCrossEntropyWithLogitsBackward>)\n",
            "Epoch :  9 loss :  tensor(0.1815, grad_fn=<BinaryCrossEntropyWithLogitsBackward>)\n",
            "Epoch :  10 loss :  tensor(0.1772, grad_fn=<BinaryCrossEntropyWithLogitsBackward>)\n",
            "Epoch :  11 loss :  tensor(0.1703, grad_fn=<BinaryCrossEntropyWithLogitsBackward>)\n",
            "Epoch :  12 loss :  tensor(0.1565, grad_fn=<BinaryCrossEntropyWithLogitsBackward>)\n",
            "Epoch :  13 loss :  tensor(0.1505, grad_fn=<BinaryCrossEntropyWithLogitsBackward>)\n",
            "Epoch :  14 loss :  tensor(0.1485, grad_fn=<BinaryCrossEntropyWithLogitsBackward>)\n",
            "Epoch :  15 loss :  tensor(0.1362, grad_fn=<BinaryCrossEntropyWithLogitsBackward>)\n",
            "Epoch :  16 loss :  tensor(0.1347, grad_fn=<BinaryCrossEntropyWithLogitsBackward>)\n",
            "Epoch :  17 loss :  tensor(0.1249, grad_fn=<BinaryCrossEntropyWithLogitsBackward>)\n",
            "Epoch :  18 loss :  tensor(0.1152, grad_fn=<BinaryCrossEntropyWithLogitsBackward>)\n",
            "Epoch :  19 loss :  tensor(0.1256, grad_fn=<BinaryCrossEntropyWithLogitsBackward>)\n",
            "Epoch :  20 loss :  tensor(0.1075, grad_fn=<BinaryCrossEntropyWithLogitsBackward>)\n",
            "Epoch :  21 loss :  tensor(0.1169, grad_fn=<BinaryCrossEntropyWithLogitsBackward>)\n",
            "Epoch :  22 loss :  tensor(0.1116, grad_fn=<BinaryCrossEntropyWithLogitsBackward>)\n",
            "Epoch :  23 loss :  tensor(0.1024, grad_fn=<BinaryCrossEntropyWithLogitsBackward>)\n",
            "Epoch :  24 loss :  tensor(0.0949, grad_fn=<BinaryCrossEntropyWithLogitsBackward>)\n",
            "Epoch :  25 loss :  tensor(0.0914, grad_fn=<BinaryCrossEntropyWithLogitsBackward>)\n",
            "Epoch :  26 loss :  tensor(0.0872, grad_fn=<BinaryCrossEntropyWithLogitsBackward>)\n",
            "Epoch :  27 loss :  tensor(0.0827, grad_fn=<BinaryCrossEntropyWithLogitsBackward>)\n",
            "Epoch :  28 loss :  tensor(0.0748, grad_fn=<BinaryCrossEntropyWithLogitsBackward>)\n",
            "Epoch :  29 loss :  tensor(0.0764, grad_fn=<BinaryCrossEntropyWithLogitsBackward>)\n",
            "Epoch :  30 loss :  tensor(0.0712, grad_fn=<BinaryCrossEntropyWithLogitsBackward>)\n",
            "Epoch :  31 loss :  tensor(0.0707, grad_fn=<BinaryCrossEntropyWithLogitsBackward>)\n",
            "Epoch :  32 loss :  tensor(0.0679, grad_fn=<BinaryCrossEntropyWithLogitsBackward>)\n",
            "Epoch :  33 loss :  tensor(0.0661, grad_fn=<BinaryCrossEntropyWithLogitsBackward>)\n",
            "Epoch :  34 loss :  tensor(0.0615, grad_fn=<BinaryCrossEntropyWithLogitsBackward>)\n",
            "Epoch :  35 loss :  tensor(0.0581, grad_fn=<BinaryCrossEntropyWithLogitsBackward>)\n",
            "Epoch :  36 loss :  tensor(0.0536, grad_fn=<BinaryCrossEntropyWithLogitsBackward>)\n",
            "Epoch :  37 loss :  tensor(0.0504, grad_fn=<BinaryCrossEntropyWithLogitsBackward>)\n",
            "Epoch :  38 loss :  tensor(0.0520, grad_fn=<BinaryCrossEntropyWithLogitsBackward>)\n",
            "Epoch :  39 loss :  tensor(0.0463, grad_fn=<BinaryCrossEntropyWithLogitsBackward>)\n",
            "Epoch :  40 loss :  tensor(0.0445, grad_fn=<BinaryCrossEntropyWithLogitsBackward>)\n",
            "Epoch :  41 loss :  tensor(0.0435, grad_fn=<BinaryCrossEntropyWithLogitsBackward>)\n",
            "Epoch :  42 loss :  tensor(0.0416, grad_fn=<BinaryCrossEntropyWithLogitsBackward>)\n",
            "Epoch :  43 loss :  tensor(0.0390, grad_fn=<BinaryCrossEntropyWithLogitsBackward>)\n",
            "Epoch :  44 loss :  tensor(0.0358, grad_fn=<BinaryCrossEntropyWithLogitsBackward>)\n",
            "Epoch :  45 loss :  tensor(0.0340, grad_fn=<BinaryCrossEntropyWithLogitsBackward>)\n",
            "Epoch :  46 loss :  tensor(0.0339, grad_fn=<BinaryCrossEntropyWithLogitsBackward>)\n",
            "Epoch :  47 loss :  tensor(0.0307, grad_fn=<BinaryCrossEntropyWithLogitsBackward>)\n",
            "Epoch :  48 loss :  tensor(0.0298, grad_fn=<BinaryCrossEntropyWithLogitsBackward>)\n",
            "Epoch :  49 loss :  tensor(0.0283, grad_fn=<BinaryCrossEntropyWithLogitsBackward>)\n",
            "Epoch :  50 loss :  tensor(0.0268, grad_fn=<BinaryCrossEntropyWithLogitsBackward>)\n"
          ],
          "name": "stdout"
        }
      ]
    },
    {
      "cell_type": "code",
      "metadata": {
        "colab": {
          "base_uri": "https://localhost:8080/",
          "height": 265
        },
        "id": "l64AXxzzdYd9",
        "outputId": "bffd5c39-7f93-4780-9071-4b6eb2810f3a"
      },
      "source": [
        "#plotting the loss, loss is decreasing for each epoch\r\n",
        "import matplotlib.pyplot as plt\r\n",
        "plt.plot(losses, label='Training loss')\r\n",
        "plt.show()"
      ],
      "execution_count": null,
      "outputs": [
        {
          "output_type": "display_data",
          "data": {
            "image/png": "[encoded data removed]",
            "text/plain": [
              "<Figure size 432x288 with 1 Axes>"
            ]
          },
          "metadata": {
            "tags": [],
            "needs_background": "light"
          }
        }
      ]
    },
    {
      "cell_type": "markdown",
      "metadata": {
        "id": "mpIMkQsQdmnM"
      },
      "source": [
        "**Prediction**"
      ]
    },
    {
      "cell_type": "code",
      "metadata": {
        "id": "nmBgWH0aKdmV"
      },
      "source": [
        "def predict_next_word(text):\r\n",
        "    #set the model to evaluation\r\n",
        "    model.eval()\r\n",
        "\r\n",
        "    #preprocess\r\n",
        "    text = text.lower().strip()\r\n",
        "    \r\n",
        "    #converting the text to word tokens\r\n",
        "    input_tokens = word_tokenize(text)\r\n",
        "    \r\n",
        "    #converting the tokens to integer sequence\r\n",
        "    sequences = tokenizer.texts_to_sequences([input_tokens])\r\n",
        "    \r\n",
        "    #converting to array\r\n",
        "    sequences=np.asarray(sequences)\r\n",
        "    with torch.no_grad():\r\n",
        "        #converting to tensor\r\n",
        "        sequences=torch.from_numpy(sequences)\r\n",
        "        #predicting the output\r\n",
        "        predict,(hidden,cell)=model(sequences)\r\n",
        "    \r\n",
        "    #applying the softmax layer\r\n",
        "    softmax = torch.exp(predict)\r\n",
        "    prob = list(softmax.numpy())\r\n",
        "    \r\n",
        "    #index of the predict word\r\n",
        "    predictions = np.argmax(prob)\r\n",
        "\r\n",
        "    #converting the sequence back to word\r\n",
        "    next_word=tokenizer.sequences_to_texts([[predictions]])\r\n",
        "    return next_word"
      ],
      "execution_count": null,
      "outputs": []
    },
    {
      "cell_type": "markdown",
      "metadata": {
        "id": "Rw5HAQI1fTpS"
      },
      "source": [
        "*Example-1*"
      ]
    },
    {
      "cell_type": "code",
      "metadata": {
        "id": "_owlCiyoeVw_"
      },
      "source": [
        "#we trained our model with sequence length of 2\r\n",
        "input_text=\"next word\""
      ],
      "execution_count": null,
      "outputs": []
    },
    {
      "cell_type": "code",
      "metadata": {
        "colab": {
          "base_uri": "https://localhost:8080/"
        },
        "id": "_tzpeDk5exQ6",
        "outputId": "c97fd5cb-7b39-4b90-e646-e36c42c94603"
      },
      "source": [
        "print(\"Possible next word will be:\")\r\n",
        "predict_next_word(input_text)"
      ],
      "execution_count": null,
      "outputs": [
        {
          "output_type": "stream",
          "text": [
            "Possible next word will be:\n"
          ],
          "name": "stdout"
        },
        {
          "output_type": "execute_result",
          "data": {
            "text/plain": [
              "['prediction']"
            ]
          },
          "metadata": {
            "tags": []
          },
          "execution_count": 129
        }
      ]
    },
    {
      "cell_type": "markdown",
      "metadata": {
        "id": "CDvZaEfSfW1u"
      },
      "source": [
        "*Example-2*"
      ]
    },
    {
      "cell_type": "code",
      "metadata": {
        "id": "0b46SBQufSJ2"
      },
      "source": [
        "#we trained our model with sequence length of 2\r\n",
        "input_text=\"NLP language\""
      ],
      "execution_count": null,
      "outputs": []
    },
    {
      "cell_type": "code",
      "metadata": {
        "colab": {
          "base_uri": "https://localhost:8080/"
        },
        "id": "9QwGqdILfSJ5",
        "outputId": "8aa8d197-e967-461f-a46d-c112990170bb"
      },
      "source": [
        "print(\"Possible next word will be:\")\r\n",
        "predict_next_word(input_text)"
      ],
      "execution_count": null,
      "outputs": [
        {
          "output_type": "stream",
          "text": [
            "Possible next word will be:\n"
          ],
          "name": "stdout"
        },
        {
          "output_type": "execute_result",
          "data": {
            "text/plain": [
              "['modeling']"
            ]
          },
          "metadata": {
            "tags": []
          },
          "execution_count": 131
        }
      ]
    },
    {
      "cell_type": "code",
      "metadata": {
        "id": "oS23nvl-hfzK"
      },
      "source": [
        ""
      ],
      "execution_count": null,
      "outputs": []
    }
  ]
}
